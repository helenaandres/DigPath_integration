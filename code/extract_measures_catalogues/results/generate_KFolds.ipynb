{
 "cells": [
  {
   "cell_type": "code",
   "execution_count": 6,
   "metadata": {},
   "outputs": [],
   "source": [
    "from sklearn.model_selection import train_test_split\n",
    "from sklearn.model_selection import StratifiedKFold\n",
    "from sklearn.model_selection import KFold\n",
    "\n",
    "import pandas as pd\n",
    "import os\n",
    "import numpy as np"
   ]
  },
  {
   "cell_type": "code",
   "execution_count": 7,
   "metadata": {},
   "outputs": [],
   "source": [
    "data= pd.read_csv('/home/ICM_CG/Projects/METABRIC/DigPath_integration/code/extract_measures_catalogues/results/newIDs_data_combined_unique_k10.csv', \n",
    "                  index_col=None, header=[0], low_memory=False)\n"
   ]
  },
  {
   "cell_type": "code",
   "execution_count": 8,
   "metadata": {},
   "outputs": [
    {
     "data": {
      "text/plain": [
       "5"
      ]
     },
     "execution_count": 8,
     "metadata": {},
     "output_type": "execute_result"
    }
   ],
   "source": [
    "#print(data)\n",
    "kf = KFold(n_splits=5)\n",
    "kf.get_n_splits(data)"
   ]
  },
  {
   "cell_type": "code",
   "execution_count": 9,
   "metadata": {},
   "outputs": [],
   "source": [
    "i=0\n",
    "X=data.values\n",
    "for train_index, test_index in kf.split(X):\n",
    "    i+=1\n",
    "    #print(\"TRAIN:\", train_index, \"TEST:\", test_index)\n",
    "    X_train, X_test = X[train_index], X[test_index]\n",
    "    #y_train, y_test = y[train_index], y[test_index]\n",
    "    X_train_df = pd.DataFrame(data=X_train, columns=data.columns, index=None)    \n",
    "    X_test_df = pd.DataFrame(data=X_test, columns=data.columns, index=None)\n",
    "    #y_train_df = pd.DataFrame(data=y_train, columns=target_columns, index=None)    \n",
    "    #y_test_df = pd.DataFrame(data=y_test, columns=target_columns, index=None)\n",
    "    #outdir = '/local/scratch/ha376/ICM/Imaging_data/IntegrativeVAEs/data/5-fold_'+str(target)+'stratified/fold'+str(i)\n",
    "    outdir = '/home/ICM_CG/Projects/METABRIC/DigPath_integration/data/5-fold_CrossValidation'\n",
    "    \n",
    "    #outdir = '/local/scratch/ha376/ICM/Imaging_data/IntegrativeVAEs/data/5-fold_ERstratified'\n",
    "    #outdir = '/local/scratch/ha376/ICM/Imaging_data/IntegrativeVAEs/data/5-fold_pam50stratified'\n",
    "    if not os.path.exists(outdir):\n",
    "        os.mkdir(outdir)\n",
    "    outdir_sub = outdir+'/fold'+str(i)\n",
    "    if not os.path.exists(outdir_sub):\n",
    "        os.mkdir(outdir_sub)        \n",
    "    X_train_df.to_csv(outdir_sub+'/data_combined_unique_k10_train.csv')\n",
    "    X_test_df.to_csv(outdir_sub+'/data_combined_unique_k10_test.csv')\n",
    "    #y_train_df.to_csv(outdir_sub+'/data_combined_unique_k10_train_y.csv')\n",
    "    #y_test_df.to_csv(outdir_sub+'/data_combined_unique_k10_test_y.csv')  "
   ]
  },
  {
   "cell_type": "code",
   "execution_count": null,
   "metadata": {},
   "outputs": [],
   "source": []
  },
  {
   "cell_type": "code",
   "execution_count": null,
   "metadata": {},
   "outputs": [],
   "source": []
  }
 ],
 "metadata": {
  "kernelspec": {
   "display_name": "Python 3",
   "language": "python",
   "name": "python3"
  },
  "language_info": {
   "codemirror_mode": {
    "name": "ipython",
    "version": 3
   },
   "file_extension": ".py",
   "mimetype": "text/x-python",
   "name": "python",
   "nbconvert_exporter": "python",
   "pygments_lexer": "ipython3",
   "version": "3.6.9"
  }
 },
 "nbformat": 4,
 "nbformat_minor": 4
}
